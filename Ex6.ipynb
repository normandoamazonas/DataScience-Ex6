{
  "nbformat": 4,
  "nbformat_minor": 0,
  "metadata": {
    "kernelspec": {
      "display_name": "Python 3",
      "language": "python",
      "name": "python3"
    },
    "language_info": {
      "codemirror_mode": {
        "name": "ipython",
        "version": 3
      },
      "file_extension": ".py",
      "mimetype": "text/x-python",
      "name": "python",
      "nbconvert_exporter": "python",
      "pygments_lexer": "ipython3",
      "version": "3.7.0"
    },
    "colab": {
      "provenance": []
    }
  },
  "cells": [
    {
      "cell_type": "markdown",
      "metadata": {
        "id": "CI8fNbys1WIN"
      },
      "source": [
        "Disciplina: SCC5948_Ciência_de_dados\n",
        "\n",
        "Normando de Campos Amazonas Filho\n",
        "\n",
        "NUSP: 11561949\n",
        "\n",
        "#Desempenho Preditivo"
      ]
    },
    {
      "cell_type": "markdown",
      "metadata": {
        "id": "ae7mLCZI-DjC"
      },
      "source": [
        "---\n"
      ]
    },
    {
      "cell_type": "markdown",
      "metadata": {
        "id": "ugQ3MbYx99I-"
      },
      "source": [
        "## Objetivos da prática:\n",
        "- Entender modelagem de dados;\n",
        "- Entender o processo de avaliação;\n",
        "- Trabalhar com procedimentos de amostragem;\n",
        "- Trabalhar com várias medidas de avaliação."
      ]
    },
    {
      "cell_type": "markdown",
      "metadata": {
        "id": "GD84PKIi1WIR"
      },
      "source": [
        "\n",
        "---\n",
        "\n",
        "**Escolha, entre as opções abaixo, apenas UM dataset para realizar os exercícios.**\n",
        "\n",
        "**Se o dataset escolhido tiver mais de duas classes, transforme ele num problema binário. Isso pode ser feito escolhendo uma classe para representar a classe positiva e o restante a classe negativa.**\n",
        "\n",
        "**Possíveis datasets:**\n",
        "\n",
        "\n",
        "*   **Câncer de mama:** [sklearn.datasets.load_breast_cancer](https://scikit-learn.org/stable/modules/generated/sklearn.datasets.load_breast_cancer.html#sklearn.datasets.load_breast_cancer)\n",
        "*   **Dígitos:** [sklearn.datasets.load_digits](https://scikit-learn.org/stable/modules/generated/sklearn.datasets.load_digits.html#sklearn.datasets.load_digits)\n",
        "*   **Wine:** [sklearn.datasets.load_wine](https://scikit-learn.org/stable/modules/generated/sklearn.datasets.load_wine.html#sklearn.datasets.load_wine)\n",
        "\n",
        "\n",
        "---\n",
        "\n",
        "\n",
        "Após a análise dos dados e um pré-processamento vem a etapa de modelagem dos experimentos. Essa etapa pode requerer voltar no pré-processamento caso perceba-se que algo precisa ser feito. A modelagem visa determinar as etapas da execução dos experimentos. No nosso cenário, experimento é a utilização de algoritmos de classificação, regressão ou agrupamento. Para tanto, é preciso definir, com ajuda da análise dos dados, o tipo do problema (classificação, regressão, ...), os atributos/features a serem utilizados e o processo de avaliação.\n",
        "\n",
        "Essa prática foca mais no processo de avaliação.\n",
        "Para a avaliação é preciso definir qual a função de custo/erro adequada, e qual o estimador para o desempenho.\n",
        "\n",
        "Utilizaremos medidas de desempenho para classificação binária baseadas na matriz de confusão (TFP, TFN, TVP, TVN).\n",
        "\n",
        "Nas aplicações reais, o cliente dita qual a medida de desempenho deve ser utilizada, e muitas vezes não é uma das clássicas. E como essa medida, em geral, tem um impacto grande no treinamento do algoritmo de classificação, muitas vezes o algoritmo precisa ser adaptado e isso não é uma tarefa fácil.\n",
        "\n",
        "Após a definição do tipo do problema e da medida de avaliação, é preciso definir como será estimado o desempenho final.\n",
        "\n",
        "Esse processo está ligado á escolha do algoritmo de classificação bem como a escolha de alguns hiperparâmetros. Uma abordagem muito comum na área é a utilização do 10-fold Cross-Validation. Esse procedimento pode ser utilizado para estimar o desempenho do classificador final, bem como, na escolha de alguns poucos hiperparâmetros.\n",
        "\n",
        "---\n"
      ]
    },
    {
      "cell_type": "markdown",
      "metadata": {
        "id": "Akk5Sv8BM3go"
      },
      "source": [
        "### Questão 01.\n",
        "\n",
        "- Caso a base escolhida tenha mais de 2 classes, transforme-a em um problema binário definindo uma classe como positiva e a outra como negativa. Você pode fazer isso uma vez e depois usar a nova base nas próximas questões.\n",
        "\n",
        "- Outras operações como remoção de atributos podem ser feitas uma vez fora da função de pré-processamento.\n",
        "\n",
        "- Implemente a função de pré-processamento para sua base aplicando as técnicas que achar necessário.\n"
      ]
    },
    {
      "cell_type": "code",
      "metadata": {
        "id": "wRDthSyd90j4",
        "colab": {
          "base_uri": "https://localhost:8080/",
          "height": 334
        },
        "outputId": "396e44b1-dfba-4309-8698-c983ec0ccdb8"
      },
      "source": [
        "# Transforme sua base em binária, isso pode ser feito apenas uma vez antes dos outros experimentos.\n",
        "# usando o Iris como exemplo, mas a resolução seria similar para as outras base\n",
        "from sklearn.datasets import load_iris\n",
        "import pandas as pd\n",
        "import numpy as np\n",
        "\n",
        "iris = load_iris()\n",
        "dataframe = pd.DataFrame(data=np.c_[iris.data, iris.target], columns= iris['feature_names'] + ['target'])\n",
        "dataframe.target = dataframe.target.replace(to_replace = 2, value = 0)\n",
        "\n",
        "classe_0 = dataframe[dataframe['target'] == 0]\n",
        "classe_1 = dataframe[dataframe['target'] == 1]\n",
        "dataframe = pd.concat([classe_0, classe_1])\n",
        "dataframe = dataframe.reset_index(drop=True)\n",
        "\n",
        "_ = dataframe.hist()\n",
        "dataframe['target'].value_counts()"
      ],
      "execution_count": null,
      "outputs": [
        {
          "output_type": "execute_result",
          "data": {
            "text/plain": [
              "0.0    100\n",
              "1.0     50\n",
              "Name: target, dtype: int64"
            ]
          },
          "metadata": {
            "tags": []
          },
          "execution_count": 10
        },
        {
          "output_type": "display_data",
          "data": {
            "image/png": "[encoded data removed]",
            "text/plain": [
              "<Figure size 432x288 with 6 Axes>"
            ]
          },
          "metadata": {
            "tags": [],
            "needs_background": "light"
          }
        }
      ]
    },
    {
      "cell_type": "code",
      "metadata": {
        "id": "MFHj3PDfNQzJ"
      },
      "source": [
        "def preprocess(x_treino, x_teste, y_treino, y_teste):\n",
        "  # Aqui poderia ser feito normalização e outras transformações\n",
        "  x_treino_novo, x_teste_novo, y_treino_novo, y_teste_novo = x_treino, x_teste, y_treino, y_teste\n",
        "  return x_treino_novo, x_teste_novo, y_treino_novo, y_teste_novo"
      ],
      "execution_count": null,
      "outputs": []
    },
    {
      "cell_type": "markdown",
      "metadata": {
        "id": "Jvl_VCC1IkEG"
      },
      "source": [
        "### Questão 02.\n",
        "\n",
        "Implemente a função que retorna a matriz de confusão, escolha duas métricas e crie 2 funções, sendo  uma função para cada métrica calculada a partir da matriz confusão."
      ]
    },
    {
      "cell_type": "code",
      "metadata": {
        "colab": {
          "base_uri": "https://localhost:8080/"
        },
        "id": "P3Wap7GsJBkv",
        "outputId": "d36bdc5b-f780-4bde-f066-69f16f18e854"
      },
      "source": [
        "def confusion_matrix(y_test, y_pred):\n",
        "  conf = np.zeros((2,2))\n",
        "  conf[0,0] = np.logical_and(y_test == 0, y_pred == 0).sum()\n",
        "  conf[0,1] = np.logical_and(y_test == 0, y_pred == 1).sum()\n",
        "  conf[1,1] = np.logical_and(y_test == 1, y_pred == 1).sum()\n",
        "  conf[1,0] = np.logical_and(y_test == 1, y_pred == 0).sum()\n",
        "  return conf\n",
        "\n",
        "actual    = np.array([1, 0, 1, 1, 0, 0, 1, 0, 1, 1])\n",
        "predicted = np.array([0, 1, 1, 1, 1, 0, 1, 1, 0, 1])\n",
        "\n",
        "conf_mat = confusion_matrix(actual, predicted)\n",
        "print(conf_mat)"
      ],
      "execution_count": null,
      "outputs": [
        {
          "output_type": "stream",
          "text": [
            "[[1. 3.]\n",
            " [2. 4.]]\n"
          ],
          "name": "stdout"
        }
      ]
    },
    {
      "cell_type": "code",
      "metadata": {
        "id": "Z4ptZrMVJKsP"
      },
      "source": [
        "# mudar o nome de acordo com sua métrica\n",
        "def accuracy_score(y_test, y_pred):\n",
        "  tn = np.logical_and(y_test == 0, y_pred == 0).sum()\n",
        "  tp = np.logical_and(y_test == 1, y_pred == 1).sum()\n",
        "  return tn+tp/len(y_test)"
      ],
      "execution_count": null,
      "outputs": []
    },
    {
      "cell_type": "markdown",
      "metadata": {
        "id": "K6f0yT8l86PD"
      },
      "source": [
        "### Questão 03.\n",
        "Uma boa prática é escolher modelos mais simples, dados dois modelos com desempenho similar a escolha do mais simples é indicada pois com isso há algumas garantias de melhor generalização. Generalização, de maneira geral, é a propriedade que garante que o classificador terá desempenho parecido ao reportado no conjunto de teste.\n",
        "\n",
        "A definição da complexidade de um modelo nem sempre é uma tarefa fácil. Uma maneira de tentar mensurar isso é através do número de parâmetros do modelo, do tipo de função que ele implementa (linear ou não linear, cortes ortogonais no espaço, ...).\n",
        "\n",
        "Execute a função *classificacao* definida no notebook com a função de pré-processamento e as medidas de desempenho que você definiu. Diga qual o modelo tem o melhor desempenho e explique porque você acha isso."
      ]
    },
    {
      "cell_type": "code",
      "metadata": {
        "id": "WaR7HyvO9zss"
      },
      "source": [
        "from sklearn.svm import SVC\n",
        "from sklearn.tree import DecisionTreeClassifier\n",
        "from sklearn.neighbors import KNeighborsClassifier\n",
        "from sklearn.linear_model import Perceptron\n",
        "from sklearn.model_selection import KFold\n",
        "from numpy import mean, std\n",
        "from matplotlib import pyplot as plt\n",
        "\n",
        "\n",
        "def classificacao(data, columns, target, preproc_fn, score_fn, score_name, conf_matrix_fn,\n",
        "                  folds=5, plot=True):\n",
        "    \"\"\"\n",
        "    Executa classificação do conjunto de dados passado\n",
        "    ---------------------------------------------------------------\n",
        "    data:       DataFrame. Conjunto de dados\n",
        "    columns:    Lista de inteiros. Índice das colunas utilizadas no treinamento e teste\n",
        "    target:     Inteiro. Índice da coluna alvo\n",
        "    preproc_fn: Função. Faz o pré-processamento da base já separada em treino e teste\n",
        "    score_fn:   Função. A função que calcula a medida de desempenho desejada. Deve ser uma\n",
        "                função que compara dois vetores, o primeiro vetor são os valores preditos\n",
        "                pelo classificador, o segundo os rótulos reais\n",
        "                Vide exemplo das funções em\n",
        "                http://scikit-learn.org/stable/modules/classes.html#module-sklearn.metrics\n",
        "                como por exemplo, sklearn.metrics.accuracy_score\n",
        "                http://scikit-learn.org/stable/modules/generated/sklearn.metrics.accuracy_score.html\n",
        "    score_name: String. Uma string com o nome da medida de desempenho\n",
        "    conf_matrix_fn: Função. Calcula matriz de confusão\n",
        "    folds:      Inteiro. Número de folds na validação cruzada\n",
        "    plot:       Booleano. True para plotar os gráficos False para não plotar\n",
        "    ---------------------------------------------------------------\n",
        "    Realiza a classificação em 6 modelos (perceptron,\n",
        "    SVM com kernel polinomial de grau 3, Árvore de decisão, 3NN, 5NN, e 7NN)\n",
        "    Plot o gráfico de desempenho para cada classificador.\n",
        "    Retorna um dicionário com os classificadores treinados, as medidas de desempenho e matriz de confusão\n",
        "    \"\"\"\n",
        "    import numpy as np\n",
        "    # inicializa os modelos com os parâmetros solicitados\n",
        "    prcp = Perceptron()\n",
        "    dt = DecisionTreeClassifier(criterion='gini', splitter='best', min_samples_split=int(len(data)*0.1))\n",
        "\n",
        "    clfs = [prcp, dt]\n",
        "    clfs_names = ['perceptron', 'dt']\n",
        "\n",
        "    #Inicializa estruturas para matrizes de confusão\n",
        "    confusion_matrices = {\n",
        "        'perceptron': np.zeros((2,2)),\n",
        "        'dt': np.zeros((2,2)),\n",
        "    }\n",
        "\n",
        "    # prepara validação cruzada\n",
        "    # faz divisão do dataset em fold partes\n",
        "    cv = KFold(n_splits=folds, shuffle=True)\n",
        "\n",
        "    # itera para cada classificador fazendo treino e teste\n",
        "    results = {'perceptron':[], 'dt':[]}\n",
        "    for c, c_name in zip(clfs, clfs_names):\n",
        "        for train_index, test_index in cv.split(data):\n",
        "\n",
        "            # separa conjunto de treino e de teste\n",
        "            x_train, y_train = data.iloc[train_index, columns], data.iloc[train_index, target]\n",
        "            x_test, y_test = data.iloc[test_index, columns], data.iloc[test_index, target]\n",
        "\n",
        "            # x_train, y_train, x_test, y_test = preproc_fn(x_train, x_test, y_train, y_test)\n",
        "            # faz o treino do modelo\n",
        "            clf = c.fit(X=x_train, y=y_train)\n",
        "\n",
        "            # valores preditos pelo classificador\n",
        "            y_pred = clf.predict(x_test)\n",
        "            # rótulos verdadeiros convertidos para array\n",
        "            y_test = np.array(y_test)\n",
        "\n",
        "            # realiza predição no conjunto de teste e salva o resultado\n",
        "            results[c_name].append( score_fn(y_test, y_pred) )\n",
        "            confusion_matrices[c_name] += conf_matrix_fn(y_test, y_pred)\n",
        "\n",
        "    if not plot:\n",
        "        return {'results': results, 'clfs':clfs}\n",
        "    # faz o plot de desempenho dos classificadores\n",
        "    plt.figure(figsize=(8,8))\n",
        "    plt.bar(range(1, len(clfs)+1), [mean(results[name]) for name in clfs_names],\n",
        "                                yerr=[std(results[name]) for name in clfs_names])\n",
        "    plt.xticks(range(1, len(clfs)+1), clfs_names, rotation=45)\n",
        "    title = 'Desempenho dos classificadores - %s'%(score_name)\n",
        "    plt.title(title)\n",
        "    plt.show()\n",
        "\n",
        "    return {'results': results, 'clfs':clfs, 'confusion_matrices': confusion_matrices}"
      ],
      "execution_count": null,
      "outputs": []
    },
    {
      "cell_type": "code",
      "metadata": {
        "id": "NJWy5TLNrp6T",
        "colab": {
          "base_uri": "https://localhost:8080/",
          "height": 569
        },
        "outputId": "78f069b5-752f-43aa-fc6e-2e5f671e22b3"
      },
      "source": [
        "results = classificacao(dataframe, [0, 1, 2, 3], 4, preproc_fn=preprocess, score_fn=accuracy_score,\n",
        "                        score_name='acc', conf_matrix_fn=confusion_matrix, folds=10)\n",
        "results['confusion_matrices']['perceptron']"
      ],
      "execution_count": null,
      "outputs": [
        {
          "output_type": "display_data",
          "data": {
            "image/png": "[encoded data removed]",
            "text/plain": [
              "<Figure size 576x576 with 1 Axes>"
            ]
          },
          "metadata": {
            "tags": [],
            "needs_background": "light"
          }
        },
        {
          "output_type": "execute_result",
          "data": {
            "text/plain": [
              "array([[66., 34.],\n",
              "       [21., 29.]])"
            ]
          },
          "metadata": {
            "tags": []
          },
          "execution_count": 15
        }
      ]
    },
    {
      "cell_type": "markdown",
      "metadata": {
        "id": "njxCEyHt9BH6"
      },
      "source": [
        "---\n",
        "\n",
        "### Questão 03.\n",
        "\n",
        "Utilizar os 2 procedimentos de amostragem para estimação do desempenho:\n",
        "- 10-fold Cross Validation;\n",
        "- Leave-one-out;\n",
        "\n",
        "Para o dataset escolhido, executar os 3 procedimentos acima para estimar o desempenho. Avalie a diferença na variância entre essas abordagens.\n",
        "\n",
        "  * Você pode utilizar a função *classificacao* já disponível apenas ajustando o parâmetro *folds*.\n",
        "\n",
        "Essas execuções podem demorar um pouco, então tenham paciência."
      ]
    },
    {
      "cell_type": "code",
      "metadata": {
        "id": "9CsPCXyv9yQ2",
        "colab": {
          "base_uri": "https://localhost:8080/",
          "height": 569
        },
        "outputId": "1a82840c-f669-483d-b485-a008b8ecd0e2"
      },
      "source": [
        "results = classificacao(dataframe, [0, 1, 2, 3], 4, preproc_fn=preprocess, score_fn=accuracy_score,\n",
        "                        score_name='acc', conf_matrix_fn=confusion_matrix, folds=10)\n",
        "results['confusion_matrices']['perceptron']"
      ],
      "execution_count": null,
      "outputs": [
        {
          "output_type": "display_data",
          "data": {
            "image/png": "[encoded data removed]",
            "text/plain": [
              "<Figure size 576x576 with 1 Axes>"
            ]
          },
          "metadata": {
            "tags": [],
            "needs_background": "light"
          }
        },
        {
          "output_type": "execute_result",
          "data": {
            "text/plain": [
              "array([[82., 18.],\n",
              "       [30., 20.]])"
            ]
          },
          "metadata": {
            "tags": []
          },
          "execution_count": 18
        }
      ]
    },
    {
      "cell_type": "code",
      "metadata": {
        "id": "_WwTx3oqlTQr",
        "colab": {
          "base_uri": "https://localhost:8080/",
          "height": 569
        },
        "outputId": "83e4c07d-cd4d-4746-ee8e-a1786294a93c"
      },
      "source": [
        "results = classificacao(dataframe, [0, 1, 2, 3], 4, preproc_fn=preprocess, score_fn=accuracy_score,\n",
        "                        score_name='acc', conf_matrix_fn=confusion_matrix, folds=len(dataframe.index))\n",
        "results['confusion_matrices']['perceptron']"
      ],
      "execution_count": null,
      "outputs": [
        {
          "output_type": "display_data",
          "data": {
            "image/png": "[encoded data removed]",
            "text/plain": [
              "<Figure size 576x576 with 1 Axes>"
            ]
          },
          "metadata": {
            "tags": [],
            "needs_background": "light"
          }
        },
        {
          "output_type": "execute_result",
          "data": {
            "text/plain": [
              "array([[77., 23.],\n",
              "       [38., 12.]])"
            ]
          },
          "metadata": {
            "tags": []
          },
          "execution_count": 19
        }
      ]
    }
  ]
}